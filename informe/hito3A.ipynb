{
 "cells": [
  {
   "cell_type": "markdown",
   "metadata": {},
   "source": [
    "### Clasificador"
   ]
  },
  {
   "cell_type": "markdown",
   "metadata": {},
   "source": [
    "El objetivo es entrenar un clasificador que sea capaz de distinguir entre los distintos tipos de informacion humanitaria presente en los tweets. Dentro de las categorías que componen \"text_human\" están: missing_or_found_people, vehicle_damage, affected_individuals, injured_or_dead_people, infrastructure_and_utility_damage, rescue_volunteering_or_donation_effort, not_humanitarian y other_relevant_information.\n",
    "Como algunas de estás categorías tienen poca frecuencia se decide juntar las categorías que traten temas parecidos en una sola. En consecuencia, se crea una nueva categoría de \"Perdidas\".\n",
    "\n",
    "Aparte de esto se decide realizar el entrenamiento del clasificador solamente sobre los tweets que tengan infromación humanitario, es decir, los tweets marcados como \"not_humanitarian\" no se tendran en cuenta para la clasificacion.\n",
    "\n",
    "El clasificador será entrenado de forma exclusiva sobre el texto de los tweets, por lo tanto es necesario realizar un embedding de los tweets para que el texto pueda ser procesado por un modelo. Por ende, hay que elegir una forma de vectorizar el texto de los tweets. \n",
    "\n"
   ]
  },
  {
   "cell_type": "code",
   "execution_count": null,
   "metadata": {},
   "outputs": [],
   "source": []
  }
 ],
 "metadata": {
  "language_info": {
   "name": "python"
  },
  "orig_nbformat": 4
 },
 "nbformat": 4,
 "nbformat_minor": 2
}
