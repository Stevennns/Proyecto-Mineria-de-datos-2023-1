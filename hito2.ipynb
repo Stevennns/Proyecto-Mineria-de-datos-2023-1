{
 "cells": [
  {
   "attachments": {},
   "cell_type": "markdown",
   "id": "e9e97451",
   "metadata": {},
   "source": [
    "### <center>CC5205 - Minería de Datos</center>\n",
    "# <center>Multimodal Crisis Dataset - Hito 1</center>\n",
    "##### <center>Grupo 1</center>\n",
    "\n",
    "<center>Integrantes: Jorge Araya, Jesús Cáceres, Agustín Cortés, Stevens Egli, Jessica Gajardo.</center>"
   ]
  },
  {
   "attachments": {},
   "cell_type": "markdown",
   "id": "7b9e3499",
   "metadata": {},
   "source": [
    "Este trabajo se centra en la exploración del conjunto de datos de [Crisisnlp](https://crisisnlp.qcri.org/), específicamente el recurso número 5, constituido de tweets e imágenes relacionadas a siete grandes desastres naturales ocurridos en el año 2017:\n",
    "* Terremoto de México\n",
    "* Terremoto de Iraq\n",
    "* Huracán María\n",
    "* Huracán Irma\n",
    "* Huracán Harvey\n",
    "* Incendio de California\n",
    "* Inundación de Srilanka\n",
    "\n",
    "La motivación principal del grupo fue explorar los datos, intentando encontrar alguna tendencia de las características de los tweets relacionados a estos desastres en cuanto su magnitud y su difusión. Queremos descubirir qué aspectos de un tweet hacen que se difunda más su contenido, lo cual sería útil para que a futuro se pueda maximizar la difusión de un tweet informativo que pueda ayudar alas víctimas del desastre natural. Además queremos saber si hay aspectos que se relacionen con la magnitud del desastre, lo que podría ayudar a predecir y clasificar la magnitud de un desastre a partir de los tweets relacionados a este.\n",
    "\n",
    "\n",
    "\n"
   ]
  },
  {
   "attachments": {},
   "cell_type": "markdown",
   "id": "7c3ed05e",
   "metadata": {},
   "source": [
    "### Características del Dataset"
   ]
  },
  {
   "attachments": {},
   "cell_type": "markdown",
   "id": "74de5338",
   "metadata": {},
   "source": [
    "El dataset obtenido del sitio web contiene tres carpetas: **annotations**, **json** y **data_image**. \n",
    "La carpeta *annotations* corresponde a archivos *.tsv* con información medida, verificada y etiquetada manualmente acerca de cada tweet. \n",
    "En *data_image* se encuentran las rutas a las fotos extraídas de los tweet. Dado que el análisis de imágenes se encuentra fuera del enfoque principal de este primer hito, se decidió no trabajar con esta carpeta. Por último, la carpeta *json* contiene archivos *.json* con información completa y sin filtro de los tweets. \n",
    "Este contenido corresponde a un sampleo ya manipulado por los académicos que dejaron disponible el dataset. Por lo que la cantidad de registros de los que se dispone es mucho menor a los registros iniciales descritos en el sitio web."
   ]
  },
  {
   "attachments": {},
   "cell_type": "markdown",
   "id": "c5991c96",
   "metadata": {},
   "source": [
    "### Exploración de los datos"
   ]
  },
  {
   "attachments": {},
   "cell_type": "markdown",
   "id": "df025d94",
   "metadata": {},
   "source": [
    "Al estudiar el contenido de los archivos *json*, se observó que cada registro de tweet tiene una gran cantidad de información anidada y difícil de analizar con algoritmos convencionales de exploración. Debido a esto, se decidió extraer manualmente las siguientes columnas, las cuales fueron consideradas más útiles para responder a la motivación de este hito:\n",
    "\n",
    "* *quote_count*: Cantidad de citas a un tweet.\n",
    "* *possibly_sensitive*: Booleano, verdadero si el tweet es sensible.\n",
    "* *lang*: Idioma del texto.\n",
    "* *id*: Identificador único de un tweet.\n",
    "* *created_at*: Fecha de creación del tweet.\n",
    "* *favorite_count*: Cantidad de favoritos.\n",
    "* *text*: Texto del tweet.\n",
    "* *reply_count*: Cantidad de respuestas.\n",
    "* *entities/hashtags*: Lista de hashtags que tiene el tweet.\n",
    "* *entities/urls*: Booleano, verdadero si hay al menos una URL el tweet.\n",
    "* *is_quote_status*: Booleano, verdadero si el tweet es una cita,\n",
    "* *retweet_count*: Cantidad de retweets.\n",
    "* *user/Location*: Localización del usuario que escribió el tweet.\n",
    "\n",
    "Junto con esto, se decidió descartar los archivos relacionados al desastre de Srilanka, ya que sus registros eran muy reducidos y carecían de dos columnas utilizadas en este estudio.\n",
    "Adicionalmente, mediante el análisis del dataframe, se logra apreciar que todas las columnas *lang* del dataframe tenían el valor *en* (inglés), por lo que se terminó descartando el uso del *lang* para el análisis.\n",
    "\n",
    "En los archivos .tsv de los desastres, los registros tienen las siguientes características de interés:\n",
    "* *text_info*: Si el tweet es informativo o no (clasificación binaria)\n",
    "* *text_info_conf*: La confiabilidad del aspecto informativo (certeza de la clasificación dada)\n",
    "* *text_human*: Qué aspecto humanitario aborda el tweet (8 clases posibles)\n",
    "* *text_human_conf*: La confiabilidad del aspecto humanitario (certeza de la clasificación dada)\n",
    "\n",
    "Estas columnas se extraen del .tsv y se mezclan con las columnas seleccionadas del .json por cada desastre natural, identificando los tweets por su ID. Con esto se construyeron los dataframes utilizados en el estudio de los desastres.\n",
    "\n",
    "Adicionalmente se agregaron las siguientes columnas:\n",
    "* *json_name*: String, corresponde al nombre del desastre al que pertenece el tweet.\n",
    "* *has_image*: Booleano, indica si el tweet posee al menos una imagen.\n",
    "* *magnitud*: Número, valor correspondiente a la magnitud del desastre natural al que pertenece el tweet.\n",
    "\n",
    "Existen 13899 registros en total, con el siguiente número de registros por desastre natural:\n",
    "* California Wildfires:  1453\n",
    "* Hurricane Harvey:  3652\n",
    "* Hurricane Irma:  3780\n",
    "* Hurricane Maria:  3965\n",
    "* Iraq Iran Earthquake:  540\n",
    "* Mexico Earthquake:  1167\n",
    "* Srilanka Floods:  920\n",
    "\n",
    "De estos registros, existen 5442 registros informativos y 2188 no informativos, con alta certeza."
   ]
  },
  {
   "attachments": {},
   "cell_type": "markdown",
   "id": "68499baf",
   "metadata": {},
   "source": [
    "### Estadísticas y visualizaciones"
   ]
  },
  {
   "attachments": {},
   "cell_type": "markdown",
   "id": "ca870955",
   "metadata": {},
   "source": [
    "#### Estadísticas de resumen"
   ]
  },
  {
   "attachments": {},
   "cell_type": "markdown",
   "id": "17c00a13",
   "metadata": {},
   "source": [
    "Se calcularon estadísticas de resumen para todos los desastres, la siguiente tabla muestra las características de resumen para un dataframe que combina los registros de todos los desastres. \n",
    "<table>\n",
    "  <tr>\n",
    "    <th></th>\n",
    "    <th>favorite_count</th>\n",
    "    <th>retweet_count</th>\n",
    "    <th>reply_count</th>\n",
    "    <th>quote_count</th>\n",
    "    <th>text_info_conf</th>\n",
    "    <th>text_human_conf</th>\n",
    "  </tr>\n",
    "  <tr>\n",
    "    <td>count</td>\n",
    "    <td>15224.000000</td>\n",
    "    <td>15224.000000</td>\n",
    "    <td>14911.000000</td>\n",
    "    <td>14912.000000</td>\n",
    "    <td>13146.000000</td>\n",
    "    <td>13146.000000</td>\n",
    "  </tr>\n",
    "  <tr>\n",
    "    <td>mean</td>\n",
    "    <td>40.848726</td>\n",
    "    <td>21.024961</td>\n",
    "    <td>1.591577</td>\n",
    "    <td>2.521929</td>\n",
    "    <td>0.791305</td>\n",
    "    <td>0.791305</td>\n",
    "  </tr>\n",
    "  <tr>\n",
    "    <td>std</td>\n",
    "    <td>860.529477</td>\n",
    "    <td>472.872880</td>\n",
    "    <td>37.779951</td>\n",
    "    <td>61.157195</td>\n",
    "    <td>0.201238</td>\n",
    "    <td>0.201238</td>\n",
    "  </tr>\n",
    "  <tr>\n",
    "    <td>min</td>\n",
    "    <td>0.000000</td>\n",
    "    <td>0.000000</td>\n",
    "    <td>0.000000</td>\n",
    "    <td>0.000000</td>\n",
    "    <td>0.258100</td>\n",
    "    <td>0.258100</td>\n",
    "  </tr>\n",
    "  <tr>\n",
    "    <td>25%</td>\n",
    "    <td>0.000000</td>\n",
    "    <td>0.000000</td>\n",
    "    <td>0.000000</td>\n",
    "    <td>0.000000</td>\n",
    "    <td>0.659600</td>\n",
    "    <td>0.659600</td>\n",
    "  </tr>\n",
    "  <tr>\n",
    "    <td>50%</td>\n",
    "    <td>0.000000</td>\n",
    "    <td>0.000000</td>\n",
    "    <td>0.000000</td>\n",
    "    <td>0.000000</td>\n",
    "    <td>0.698450</td>\n",
    "    <td>0.698450</td>\n",
    "  </tr>\n",
    "  <tr>\n",
    "    <td>75%</td>\n",
    "    <td>0.000000</td>\n",
    "    <td>0.000000</td>\n",
    "    <td>0.000000</td>\n",
    "    <td>0.000000</td>\n",
    "    <td>1.000000</td>\n",
    "    <td>1.000000</td>\n",
    "  </tr>\n",
    "  <tr>\n",
    "    <td>max</td>\n",
    "    <td>51726.000000</td>\n",
    "    <td>36840.000000</td>\n",
    "    <td>3797.000000</td>\n",
    "    <td>4010.000000</td>\n",
    "    <td>1.000000</td>\n",
    "    <td>1.000000</td>\n",
    "  </tr>\n",
    "</table>\n",
    "\n",
    "Se puede ver que las interacciones de los tweets son casi inexistentes en la mayoria de registros. Valores distintos a 0 recién empiezan a aparecer por sobre el tercer cuartil de los registros.\n",
    "Las estadísticas para cada desastre individual se pueden obtener replicando los códigos del anexo."
   ]
  },
  {
   "attachments": {},
   "cell_type": "markdown",
   "id": "886d695e",
   "metadata": {},
   "source": [
    "#### Visualizaciones"
   ]
  },
  {
   "attachments": {},
   "cell_type": "markdown",
   "id": "501545da",
   "metadata": {},
   "source": [
    "##### Histogramas"
   ]
  },
  {
   "attachments": {},
   "cell_type": "markdown",
   "id": "397e5dda",
   "metadata": {},
   "source": [
    "A continuación se muestra un histograma para las columnas *quote_count*, *favorite_count*, *reply_count* y *retweet_count* utilizando el dataframe con los registros de todos los desastres. El eje **y** cuenta la cantidad de tweets y el eje **x** el valor del atributo correspondiente.\n",
    "\n",
    "<center>\n",
    "<div>\n",
    "    <img src=\"images/complete_hist.png\" width=\"400\"/>\n",
    "    <figcaption>Fig a.1 - Histograma del conjunto completo de desastres</figcaption>\n",
    "</div>\n",
    "</center>\n",
    "\n",
    "Al igual que con la tabla anterior, se puede apreciar que casi la totalidad de los tweets tienen una cantidad cercana a 0 de interacciones. Una cantidad mínima de tweets concentran casi todas las interacciones."
   ]
  },
  {
   "attachments": {},
   "cell_type": "markdown",
   "id": "e4f2f028",
   "metadata": {},
   "source": [
    "##### Boxplots"
   ]
  },
  {
   "attachments": {},
   "cell_type": "markdown",
   "id": "2ed98a82",
   "metadata": {},
   "source": [
    "Se realizaron boxplots para cada dataframe, pero no se pudieron extraer conclusiones significativas sobre el gráfico, además de el hecho de que existen outliers con valores muy altos en los atributos relacionados a las interacciones del tweet. A continuación un ejemplo de boxplots de las columnas *quote_count*, *favorite_count*, *reply_count* y *retweet_count* del dataframe de California Wildfires:\n",
    "\n",
    "<center>\n",
    "<div style=\"display:flex;\">\n",
    "    <div>\n",
    "    <img src=\"images/boxplot_1_california.png\" style=\"width:100%;\"/>\n",
    "    <figcaption>Fig b.1 - California Wildfires</figcaption>\n",
    "    </div>\n",
    "    <div>\n",
    "    <img src=\"images/boxplot_2_california.png\" style=\"width:100%;\"/>\n",
    "    <figcaption>Fig b.2 - California Wildfires</figcaption>\n",
    "    </div>\n",
    "</div>\n",
    "</center>"
   ]
  },
  {
   "attachments": {},
   "cell_type": "markdown",
   "id": "43db3958",
   "metadata": {},
   "source": [
    "##### Conteo de palabras"
   ]
  },
  {
   "attachments": {},
   "cell_type": "markdown",
   "id": "1a19efa3",
   "metadata": {},
   "source": [
    "Se realizó un conteo de las palabras más comunes en los textos de cada tweet. Se pudo notar que los usuarios tienden mayormente a mencionar el lugar del suceso y el tipo de desastre.\n",
    "\n",
    "<center>\n",
    "<div style=\"display:flex;\">\n",
    "    <div>\n",
    "    <img src=\"images/word_count_california.png\" style=\"width:100%;\"/>\n",
    "    <figcaption>Fig c.1 - California Wildfires</figcaption>\n",
    "    </div>\n",
    "    <div>\n",
    "    <img src=\"images/word_count_harvey.png\" style=\"width:100%;\"/>\n",
    "    <figcaption>Fig c.2 - Hurricane Harvey</figcaption>\n",
    "    </div>\n",
    "</div>\n",
    "</center>\n",
    "<center>\n",
    "<div style=\"display:flex;\">\n",
    "    <div>\n",
    "    <img src=\"images/word_count_irma.png\" style=\"width:100%;\"/>\n",
    "    <figcaption>Fig c.3 - Hurricane Irma</figcaption>\n",
    "    </div>\n",
    "    <div>\n",
    "    <img src=\"images/word_count_maria.png\" style=\"width:100%;\"/>\n",
    "    <figcaption>Fig c.4 - Hurricane Maria</figcaption>\n",
    "    </div>\n",
    "</div>\n",
    "</center>\n",
    "<center>\n",
    "<div style=\"display:flex;\">\n",
    "    <div>\n",
    "    <img src=\"images/word_count_iraq.png\" style=\"width:100%;\"/>\n",
    "    <figcaption>Fig c.5 - Iraq and Iran Earthquake</figcaption>\n",
    "    </div>\n",
    "    <div>\n",
    "    <img src=\"images/word_count_mexico.png\" style=\"width:100%;\"/>\n",
    "    <figcaption>Fig c.6 - Mexico Earthquake</figcaption>\n",
    "    </div>\n",
    "</div>\n",
    "</center>"
   ]
  },
  {
   "attachments": {},
   "cell_type": "markdown",
   "id": "7fffb048",
   "metadata": {},
   "source": [
    "##### Correlaciones"
   ]
  },
  {
   "attachments": {},
   "cell_type": "markdown",
   "id": "16d54913",
   "metadata": {},
   "source": [
    "La siguiente tabla muestra las correlaciones entre las columnas cuantitativas del dataframe con todos los desastres. Las columnas *text_info* y *text_human* fueron mapeadas de string a enteros para poder realizar esta correlación."
   ]
  },
  {
   "attachments": {},
   "cell_type": "markdown",
   "id": "f0178d10",
   "metadata": {},
   "source": [
    "<center>\n",
    "<table>\n",
    "  <tr>\n",
    "    <th></th>\n",
    "    <th>favorite_count</th>\n",
    "    <th>retweet_count</th>\n",
    "    <th>possibly_sensitive</th>\n",
    "    <th>reply_count</th>\n",
    "    <th>quote_count</th>\n",
    "    <th>text_info</th>\n",
    "    <th>text_human</th>\n",
    "  </tr>\n",
    "  <tr>\n",
    "    <td>favorite_count</td>\n",
    "    <td>1.000000</td>\n",
    "    <td>0.919928</td>\n",
    "    <td>-0.000964</td>\n",
    "    <td>0.709378</td>\n",
    "    <td>0.553119</td>\n",
    "    <td>-0.086793</td>\n",
    "    <td>-0.094353</td>\n",
    "  </tr>\n",
    "  <tr>\n",
    "    <td>retweet_count</td>\n",
    "    <td>0.919928</td>\n",
    "    <td>1.000000</td>\n",
    "    <td>-0.001934</td>\n",
    "    <td>0.606207</td>\n",
    "    <td>0.616322</td>\n",
    "    <td>-0.081295</td>\n",
    "    <td>-0.088376</td>\n",
    "  </tr>\n",
    "  <tr>\n",
    "    <td>possibly_sensitive</td>\n",
    "    <td>-0.000964</td>\n",
    "    <td>-0.001934</td>\n",
    "    <td>1.000000</td>\n",
    "    <td>-0.002455</td>\n",
    "    <td>-0.001630</td>\n",
    "    <td>0.005151</td>\n",
    "    <td>-0.002635</td>\n",
    "  </tr>\n",
    "  <tr>\n",
    "    <td>reply_count</td>\n",
    "    <td>0.709378</td>\n",
    "    <td>0.606207</td>\n",
    "    <td>-0.002455</td>\n",
    "    <td>1.000000</td>\n",
    "    <td>0.345626</td>\n",
    "    <td>-0.077976</td>\n",
    "    <td>-0.085081</td>\n",
    "  </tr>\n",
    "  <tr>\n",
    "    <td>quote_count</td>\n",
    "    <td>0.553119</td>\n",
    "    <td>0.616322</td>\n",
    "    <td>-0.001630</td>\n",
    "    <td>0.345626</td>\n",
    "    <td>1.000000</td>\n",
    "    <td>-0.076328</td>\n",
    "    <td>-0.083285</td>\n",
    "  </tr>\n",
    "  <tr>\n",
    "    <td>text_info</td>\n",
    "    <td>-0.086793</td>\n",
    "    <td>-0.081295</td>\n",
    "    <td>0.005151</td>\n",
    "    <td>-0.077976</td>\n",
    "    <td>-0.076328</td>\n",
    "    <td>1.000000</td>\n",
    "    <td>0.509454</td>\n",
    "  </tr>\n",
    "  <tr>\n",
    "    <td>text_human</td>\n",
    "    <td>-0.094353</td>\n",
    "    <td>-0.088376</td>\n",
    "    <td>-0.002635</td>\n",
    "    <td>-0.085081</td>\n",
    "    <td>-0.083285</td>\n",
    "    <td>0.509454</td>\n",
    "    <td>1.000000</td>\n",
    "  </tr>\n",
    "</table>\n",
    "</center>"
   ]
  },
  {
   "attachments": {},
   "cell_type": "markdown",
   "id": "3b678ad8",
   "metadata": {},
   "source": [
    "Se puede ver la conexión existente entre las interacciones de los usuarios, aquellos tweets con muchos retweets tienden a tener muchas respuestas o ser citados más a menudo. Sin embargo no se aprecia una relación entre estos valores y la clasificación asignada al atributo humanitario o de información de los tweets.\n",
    "Se presume que estas últimas columnas dependen mucho más del contenido del texto y las imágenes que se dejaron aparte para este hito. Se evaluará su utilización para las siguientes entregas."
   ]
  },
  {
   "attachments": {},
   "cell_type": "markdown",
   "id": "442947d5",
   "metadata": {},
   "source": [
    "##### Clasificación de tweet"
   ]
  },
  {
   "attachments": {},
   "cell_type": "markdown",
   "id": "71872914",
   "metadata": {},
   "source": [
    "Se realizó un gráfico de barras con el dataframe que contiene todos los registros de desastres para el atributo *text_human*, el cual indica la clasificación del texto del tweet. Los académicos que asignaron estas etiquetas utilizaron un algoritmo que, además de clasificar los tweets, les informaba que tan certera era esta clasificación. Para este gráfico se consideraron todos aquellos tweets que poseen confiabilidad del 100% de su clasificación *text_human*.\n",
    "\n",
    "<center>\n",
    "<div>\n",
    "    <img src=\"images/text_human_conf_graph.png\" width=\"400\"/>\n",
    "    <figcaption>Fig d.1 - Clasificación humanitaria de tweets</figcaption>\n",
    "</div>\n",
    "</center>\n"
   ]
  },
  {
   "attachments": {},
   "cell_type": "markdown",
   "id": "c767c0d0",
   "metadata": {},
   "source": [
    "### Preguntas Finales"
   ]
  },
  {
   "attachments": {},
   "cell_type": "markdown",
   "id": "4811e5db",
   "metadata": {},
   "source": [
    "<div class=text-justify>\n",
    "Habiendo terminado la exploración del dataset se plantean las siguientes preguntas:\n",
    "\n",
    "* ¿Se relaciona la magnitud del desastre con la difusion en Twitter?\n",
    "* ¿Depende más del número de afectados o de otros factores?\n",
    "* ¿Cúal es el objetivo de los tweets y que tanta difusión consiguen?¿Por qué?\n",
    "\n",
    "* ¿Por qué la exploración de datos nos lleva a plantear estas preguntas?\n",
    "\n",
    "Si hablamos de difusión lo más probable es que la cantidad de seguidores y el número de personas afectadas sea la variable con mayor influencia. Aún así, Se plantea la hipótesis que la retórica que se usa dentro de un tweet es importante y que existen palabras y expresiones que se relacionan positivamente con la difusión. \n",
    "</div>\n"
   ]
  },
  {
   "attachments": {},
   "cell_type": "markdown",
   "id": "8faea7b4",
   "metadata": {},
   "source": [
    "## Aportes\n",
    "Para este informe se realizaron las siguientes contribuciones.\n",
    "* Resumen de estadísticas: Stevens\n",
    "* Histogramas: Stevens\n",
    "* Boxplots: Jessica\n",
    "* Conteo de palabras: Agustín y Jessica\n",
    "* Clasificación: Jorge y Jesús\n",
    "* Conteo de ubicaciones: Jesús\n",
    "\n",
    "Sin embargo, para el proceso de exploración el dataframe fue dividido entre todos los integrantes. Cada uno realizó tareas de exploración sobre los desastres particulares que les fueron asignados."
   ]
  },
  {
   "attachments": {},
   "cell_type": "markdown",
   "id": "06fdacb2",
   "metadata": {},
   "source": [
    "## Anexo\n",
    "Los códigos se encuentran en la carpeta \"/codigo\". Por ejemplo, el archivo visualizaciones_california.ipynb contiene el código completo para generar las estadísticas y visualizaciones que son replicables para cada dataframe. Además de los códigos individuales para los 6 desastres, se añade el código utilizado con el dataset que tiene todos los datos."
   ]
  }
 ],
 "metadata": {
  "kernelspec": {
   "display_name": "Python 3 (ipykernel)",
   "language": "python",
   "name": "python3"
  },
  "language_info": {
   "codemirror_mode": {
    "name": "ipython",
    "version": 3
   },
   "file_extension": ".py",
   "mimetype": "text/x-python",
   "name": "python",
   "nbconvert_exporter": "python",
   "pygments_lexer": "ipython3",
   "version": "3.10.8"
  }
 },
 "nbformat": 4,
 "nbformat_minor": 5
}
